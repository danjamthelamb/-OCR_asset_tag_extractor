{
 "cells": [
  {
   "cell_type": "markdown",
   "id": "7ebad0fc-808a-431d-9fef-67fa142d80ba",
   "metadata": {},
   "source": [
    "# 📦 Imports and Setup\n"
   ]
  },
  {
   "cell_type": "code",
   "execution_count": 56,
   "id": "1c751f64-1ff4-4062-b8ed-50f213fd0eee",
   "metadata": {},
   "outputs": [
    {
     "name": "stderr",
     "output_type": "stream",
     "text": [
      "C:\\Users\\danja\\AppData\\Local\\Temp\\ipykernel_230636\\2039171371.py:8: DeprecationWarning: The parameter `use_angle_cls` has been deprecated and will be removed in the future. Please use `use_textline_orientation` instead.\n",
      "  ocr = PaddleOCR(use_angle_cls=True, lang='en')\n",
      "\u001b[32mCreating model: ('PP-LCNet_x1_0_doc_ori', None)\u001b[0m\n",
      "\u001b[32mUsing official model (PP-LCNet_x1_0_doc_ori), the model files will be automatically downloaded and saved in C:\\Users\\danja\\.paddlex\\official_models.\u001b[0m\n",
      "\u001b[32mCreating model: ('UVDoc', None)\u001b[0m\n",
      "\u001b[32mUsing official model (UVDoc), the model files will be automatically downloaded and saved in C:\\Users\\danja\\.paddlex\\official_models.\u001b[0m\n",
      "\u001b[32mCreating model: ('PP-LCNet_x1_0_textline_ori', None)\u001b[0m\n",
      "\u001b[32mUsing official model (PP-LCNet_x1_0_textline_ori), the model files will be automatically downloaded and saved in C:\\Users\\danja\\.paddlex\\official_models.\u001b[0m\n",
      "\u001b[32mCreating model: ('PP-OCRv5_server_det', None)\u001b[0m\n",
      "\u001b[32mUsing official model (PP-OCRv5_server_det), the model files will be automatically downloaded and saved in C:\\Users\\danja\\.paddlex\\official_models.\u001b[0m\n",
      "\u001b[32mCreating model: ('PP-OCRv5_server_rec', None)\u001b[0m\n",
      "\u001b[32mUsing official model (PP-OCRv5_server_rec), the model files will be automatically downloaded and saved in C:\\Users\\danja\\.paddlex\\official_models.\u001b[0m\n"
     ]
    }
   ],
   "source": [
    "# Import OCR and file handling modules\n",
    "from paddleocr import PaddleOCR\n",
    "import os\n",
    "import csv\n",
    "import json\n",
    "from datetime import date\n",
    "\n",
    "ocr = PaddleOCR(use_angle_cls=True, lang='en')"
   ]
  },
  {
   "cell_type": "markdown",
   "id": "5767d786-59e8-4620-afb4-bec820dd067f",
   "metadata": {},
   "source": [
    "# Functions for Asset Tag Processing\n",
    "\n",
    "- Determine Asset Type\n",
    "- OCR and Tag Filtering\n",
    "- Image Folder Processing\n",
    "- CSV Export"
   ]
  },
  {
   "cell_type": "code",
   "execution_count": 58,
   "id": "639b032d-5b00-4f22-be22-2dfe35ed196f",
   "metadata": {},
   "outputs": [],
   "source": [
    "# Pull in JSON mapping table\n",
    "def load_suffix_map(json_path):\n",
    "    with open(json_path, 'r') as f:\n",
    "        return json.load(f)\n",
    "\n",
    "# Compare extracted asset tag to mapping table\n",
    "def get_asset_type(tag):\n",
    "    for suffix, asset_type in suffix_map.items():\n",
    "        if tag.endswith(suffix):\n",
    "            return asset_type\n",
    "    return \"\"  # Unknown or no suffix match\n",
    "\n",
    "# Use paddle to extract asset tag from image.\n",
    "def get_asset_type(tag, suffix_map):\n",
    "    for suffix, asset_type in suffix_map.items():\n",
    "        if tag.endswith(suffix):\n",
    "            return asset_type\n",
    "    return \"\"\n",
    "\n",
    "# Image file handling function\n",
    "def process_images(folder, suffix_map):\n",
    "    rows = []\n",
    "    for filename in os.listdir(folder):\n",
    "        if filename.lower().endswith(('.png', '.jpg', '.jpeg')):\n",
    "            filepath = os.path.join(folder, filename)\n",
    "            print(f\"Processing {filename}...\")\n",
    "            tags = extract_asset_tag(filepath)\n",
    "            if tags:\n",
    "                for tag in tags:\n",
    "                    asset_type = get_asset_type(tag, suffix_map)\n",
    "                    rows.append([filename, tag, asset_type])\n",
    "            else:\n",
    "                rows.append([filename, \"\", \"\"])\n",
    "    return rows\n",
    "\n",
    "# Save output to csv. Staged for mock upload into quickbase.\n",
    "def save_to_csv(rows, output_csv):\n",
    "    with open(output_csv, 'w', newline='', encoding='utf-8') as f:\n",
    "        writer = csv.writer(f)\n",
    "        writer.writerow([\"file_name\", \"asset_tag_number\", \"asset_type\"])\n",
    "        writer.writerows(rows)"
   ]
  },
  {
   "cell_type": "markdown",
   "id": "368d7dc0-9aac-407d-9efc-21eb8b1ef90a",
   "metadata": {},
   "source": [
    "# Main Execution Block"
   ]
  },
  {
   "cell_type": "code",
   "execution_count": 62,
   "id": "18417697-80ff-48db-9a12-bf830f05f94f",
   "metadata": {},
   "outputs": [
    {
     "name": "stdout",
     "output_type": "stream",
     "text": [
      "Processing Screenshot 2025-06-12 141844.png...\n",
      "Processing Screenshot 2025-06-13 082938.png...\n",
      "Processing Screenshot 2025-06-13 083027.png...\n",
      "Done! Data saved to ../Outputs/extracted_asset_tags_2025-06-16.csv\n"
     ]
    }
   ],
   "source": [
    "if __name__ == '__main__':\n",
    "    today = date.today()\n",
    "    image_folder = '../Data/raw_images'  # update as needed\n",
    "    output_csv = f'../Outputs/extracted_asset_tags_{today}.csv'\n",
    "    suffix_json = '../Data/suffix_map.json'\n",
    "    suffix_map = load_suffix_map(suffix_json)\n",
    "    \n",
    "    rows = process_images(image_folder, suffix_map)\n",
    "    save_to_csv(rows, output_csv)\n",
    "    print(f\"Done! Data saved to {output_csv}\")"
   ]
  }
 ],
 "metadata": {
  "kernelspec": {
   "display_name": "Python (PaddleOCR)",
   "language": "python",
   "name": "paddleocr-env"
  },
  "language_info": {
   "codemirror_mode": {
    "name": "ipython",
    "version": 3
   },
   "file_extension": ".py",
   "mimetype": "text/x-python",
   "name": "python",
   "nbconvert_exporter": "python",
   "pygments_lexer": "ipython3",
   "version": "3.10.6"
  }
 },
 "nbformat": 4,
 "nbformat_minor": 5
}
