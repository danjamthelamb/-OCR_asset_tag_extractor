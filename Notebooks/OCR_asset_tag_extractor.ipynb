{
 "cells": [
  {
   "cell_type": "markdown",
   "id": "7ebad0fc-808a-431d-9fef-67fa142d80ba",
   "metadata": {},
   "source": [
    "# 📦 Imports and Setup\n"
   ]
  },
  {
   "cell_type": "code",
   "execution_count": 22,
   "id": "1c751f64-1ff4-4062-b8ed-50f213fd0eee",
   "metadata": {},
   "outputs": [],
   "source": [
    "# Import OCR and file handling modules\n",
    "from paddleocr import PaddleOCR\n",
    "import os\n",
    "import csv\n",
    "\n",
    "# example mapping for assets\n",
    "suffix_map = {\n",
    "    \"LPTP\": \"laptop\",\n",
    "    \"PNTR\": \"printer\",\n",
    "    \"WKST\": \"workstation\",\n",
    "    \"RTR\":  \"router\",\n",
    "    \"MODM\": \"modem\"\n",
    "}"
   ]
  },
  {
   "cell_type": "markdown",
   "id": "5767d786-59e8-4620-afb4-bec820dd067f",
   "metadata": {},
   "source": [
    "# Functions for Asset Tag Processing\n",
    "\n",
    "- Determine Asset Type\n",
    "- OCR and Tag Filtering\n",
    "- Image Folder Processing\n",
    "- CSV Export"
   ]
  },
  {
   "cell_type": "code",
   "execution_count": 27,
   "id": "639b032d-5b00-4f22-be22-2dfe35ed196f",
   "metadata": {},
   "outputs": [],
   "source": [
    "# Compare extracted asset tag to mapping table\n",
    "def get_asset_type(tag):\n",
    "    for suffix, asset_type in suffix_map.items():\n",
    "        if tag.endswith(suffix):\n",
    "            return asset_type\n",
    "    return \"\"  # Unknown or no suffix match\n",
    "\n",
    "# Use paddle to extract asset tag from image.\n",
    "def extract_asset_tag(image_path):\n",
    "    result = ocr.predict(image_path)\n",
    "    asset_tags = []\n",
    "\n",
    "    for entry in result:\n",
    "        if 'rec_texts' in entry:\n",
    "            texts = entry['rec_texts']\n",
    "            scores = entry['rec_scores']\n",
    "            for text, score in zip(texts, scores):\n",
    "                text = text.strip()\n",
    "                if score > 0.5 and text.startswith(\"DA\"):\n",
    "                    asset_tags.append(text)\n",
    "    return asset_tags\n",
    "\n",
    "# Image file handling function\n",
    "def process_images(folder):\n",
    "    rows = []\n",
    "    for filename in os.listdir(folder):\n",
    "        if filename.lower().endswith(('.png', '.jpg', '.jpeg')):\n",
    "            filepath = os.path.join(folder, filename)\n",
    "            print(f\"Processing {filename}...\")\n",
    "            tags = extract_asset_tag(filepath)\n",
    "            if tags:\n",
    "                for tag in tags:\n",
    "                    asset_type = get_asset_type(tag)\n",
    "                    rows.append([filename, tag, asset_type])\n",
    "            else:\n",
    "                rows.append([filename, \"\", \"\"])\n",
    "    return rows\n",
    "\n",
    "# Save output to csv. Staged for mock upload into quickbase.\n",
    "def save_to_csv(rows, output_csv):\n",
    "    with open(output_csv, 'w', newline='', encoding='utf-8') as f:\n",
    "        writer = csv.writer(f)\n",
    "        writer.writerow([\"file_name\", \"asset_tag_number\", \"asset_type\"])\n",
    "        writer.writerows(rows)"
   ]
  },
  {
   "cell_type": "markdown",
   "id": "368d7dc0-9aac-407d-9efc-21eb8b1ef90a",
   "metadata": {},
   "source": [
    "# Main Execution Block"
   ]
  },
  {
   "cell_type": "code",
   "execution_count": 55,
   "id": "18417697-80ff-48db-9a12-bf830f05f94f",
   "metadata": {},
   "outputs": [
    {
     "name": "stdout",
     "output_type": "stream",
     "text": [
      "Processing Screenshot 2025-06-12 141844.png...\n",
      "Processing Screenshot 2025-06-13 082938.png...\n",
      "Processing Screenshot 2025-06-13 083027.png...\n",
      "✅ Done! Data saved to extracted_asset_tags.csv\n"
     ]
    }
   ],
   "source": [
    "if __name__ == '__main__':\n",
    "    image_folder = 'asset_tag_images'  # update as needed\n",
    "    output_csv = 'extracted_asset_tags.csv'\n",
    "    rows = process_images(image_folder)\n",
    "    save_to_csv(rows, output_csv)\n",
    "    print(f\"✅ Done! Data saved to {output_csv}\")"
   ]
  }
 ],
 "metadata": {
  "kernelspec": {
   "display_name": "Python (PaddleOCR)",
   "language": "python",
   "name": "paddleocr-env"
  },
  "language_info": {
   "codemirror_mode": {
    "name": "ipython",
    "version": 3
   },
   "file_extension": ".py",
   "mimetype": "text/x-python",
   "name": "python",
   "nbconvert_exporter": "python",
   "pygments_lexer": "ipython3",
   "version": "3.10.6"
  }
 },
 "nbformat": 4,
 "nbformat_minor": 5
}
